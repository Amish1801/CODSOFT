{
  "cells": [
    {
      "cell_type": "code",
      "execution_count": 9,
      "metadata": {
        "id": "BWg9xjbgLlIh"
      },
      "outputs": [],
      "source": [
        "import pandas as pd\n",
        "import sklearn"
      ]
    },
    {
      "cell_type": "markdown",
      "metadata": {
        "id": "rmA4ZvfxSBbz"
      },
      "source": [
        "**Load dataset**"
      ]
    },
    {
      "cell_type": "code",
      "execution_count": 10,
      "metadata": {
        "colab": {
          "base_uri": "https://localhost:8080/",
          "height": 73
        },
        "id": "v_AhtNdfMAjb",
        "outputId": "f80f4929-7a1e-4407-a5a9-793be841c0c0"
      },
      "outputs": [
        {
          "name": "stdout",
          "output_type": "stream",
          "text": [
            "   Restaurant ID         Restaurant Name  Country Code              City  \\\n",
            "0        6317637        Le Petit Souffle           162       Makati City   \n",
            "1        6304287        Izakaya Kikufuji           162       Makati City   \n",
            "2        6300002  Heat - Edsa Shangri-La           162  Mandaluyong City   \n",
            "3        6318506                    Ooma           162  Mandaluyong City   \n",
            "4        6314302             Sambo Kojin           162  Mandaluyong City   \n",
            "\n",
            "                                             Address  \\\n",
            "0  Third Floor, Century City Mall, Kalayaan Avenu...   \n",
            "1  Little Tokyo, 2277 Chino Roces Avenue, Legaspi...   \n",
            "2  Edsa Shangri-La, 1 Garden Way, Ortigas, Mandal...   \n",
            "3  Third Floor, Mega Fashion Hall, SM Megamall, O...   \n",
            "4  Third Floor, Mega Atrium, SM Megamall, Ortigas...   \n",
            "\n",
            "                                     Locality  \\\n",
            "0   Century City Mall, Poblacion, Makati City   \n",
            "1  Little Tokyo, Legaspi Village, Makati City   \n",
            "2  Edsa Shangri-La, Ortigas, Mandaluyong City   \n",
            "3      SM Megamall, Ortigas, Mandaluyong City   \n",
            "4      SM Megamall, Ortigas, Mandaluyong City   \n",
            "\n",
            "                                    Locality Verbose   Longitude   Latitude  \\\n",
            "0  Century City Mall, Poblacion, Makati City, Mak...  121.027535  14.565443   \n",
            "1  Little Tokyo, Legaspi Village, Makati City, Ma...  121.014101  14.553708   \n",
            "2  Edsa Shangri-La, Ortigas, Mandaluyong City, Ma...  121.056831  14.581404   \n",
            "3  SM Megamall, Ortigas, Mandaluyong City, Mandal...  121.056475  14.585318   \n",
            "4  SM Megamall, Ortigas, Mandaluyong City, Mandal...  121.057508  14.584450   \n",
            "\n",
            "                           Cuisines  ...          Currency Has Table booking  \\\n",
            "0        French, Japanese, Desserts  ...  Botswana Pula(P)               Yes   \n",
            "1                          Japanese  ...  Botswana Pula(P)               Yes   \n",
            "2  Seafood, Asian, Filipino, Indian  ...  Botswana Pula(P)               Yes   \n",
            "3                   Japanese, Sushi  ...  Botswana Pula(P)                No   \n",
            "4                  Japanese, Korean  ...  Botswana Pula(P)               Yes   \n",
            "\n",
            "  Has Online delivery Is delivering now Switch to order menu Price range  \\\n",
            "0                  No                No                   No           3   \n",
            "1                  No                No                   No           3   \n",
            "2                  No                No                   No           4   \n",
            "3                  No                No                   No           4   \n",
            "4                  No                No                   No           4   \n",
            "\n",
            "   Aggregate rating  Rating color Rating text Votes  \n",
            "0               4.8    Dark Green   Excellent   314  \n",
            "1               4.5    Dark Green   Excellent   591  \n",
            "2               4.4         Green   Very Good   270  \n",
            "3               4.9    Dark Green   Excellent   365  \n",
            "4               4.8    Dark Green   Excellent   229  \n",
            "\n",
            "[5 rows x 21 columns]\n"
          ]
        }
      ],
      "source": [
        "file_path = 'Dataset .csv'\n",
        "data = pd.read_csv(file_path)\n",
        "\n",
        "# Now 'data' contains your dataset, which you can manipulate or analyze further\n",
        "print(data.head())"
      ]
    },
    {
      "cell_type": "code",
      "execution_count": 11,
      "metadata": {
        "id": "CNEbmMJkNBzx"
      },
      "outputs": [],
      "source": [
        "df = pd.read_csv('Dataset .csv')"
      ]
    },
    {
      "cell_type": "markdown",
      "metadata": {
        "id": "5TWV6ViMSHiY"
      },
      "source": [
        "**Preprocesing (keeping relevent coloumns)**"
      ]
    },
    {
      "cell_type": "code",
      "execution_count": 12,
      "metadata": {
        "colab": {
          "base_uri": "https://localhost:8080/",
          "height": 245
        },
        "id": "K5MUaxQLNYMP",
        "outputId": "b44e47ea-5061-4693-ef96-66afec1ed09c"
      },
      "outputs": [
        {
          "data": {
            "text/html": [
              "<div>\n",
              "<style scoped>\n",
              "    .dataframe tbody tr th:only-of-type {\n",
              "        vertical-align: middle;\n",
              "    }\n",
              "\n",
              "    .dataframe tbody tr th {\n",
              "        vertical-align: top;\n",
              "    }\n",
              "\n",
              "    .dataframe thead th {\n",
              "        text-align: right;\n",
              "    }\n",
              "</style>\n",
              "<table border=\"1\" class=\"dataframe\">\n",
              "  <thead>\n",
              "    <tr style=\"text-align: right;\">\n",
              "      <th></th>\n",
              "      <th>Restaurant Name</th>\n",
              "      <th>Cuisines</th>\n",
              "      <th>Aggregate rating</th>\n",
              "    </tr>\n",
              "  </thead>\n",
              "  <tbody>\n",
              "    <tr>\n",
              "      <th>0</th>\n",
              "      <td>Le Petit Souffle</td>\n",
              "      <td>French, Japanese, Desserts</td>\n",
              "      <td>4.8</td>\n",
              "    </tr>\n",
              "    <tr>\n",
              "      <th>1</th>\n",
              "      <td>Izakaya Kikufuji</td>\n",
              "      <td>Japanese</td>\n",
              "      <td>4.5</td>\n",
              "    </tr>\n",
              "    <tr>\n",
              "      <th>2</th>\n",
              "      <td>Heat - Edsa Shangri-La</td>\n",
              "      <td>Seafood, Asian, Filipino, Indian</td>\n",
              "      <td>4.4</td>\n",
              "    </tr>\n",
              "    <tr>\n",
              "      <th>3</th>\n",
              "      <td>Ooma</td>\n",
              "      <td>Japanese, Sushi</td>\n",
              "      <td>4.9</td>\n",
              "    </tr>\n",
              "    <tr>\n",
              "      <th>4</th>\n",
              "      <td>Sambo Kojin</td>\n",
              "      <td>Japanese, Korean</td>\n",
              "      <td>4.8</td>\n",
              "    </tr>\n",
              "  </tbody>\n",
              "</table>\n",
              "</div>"
            ],
            "text/plain": [
              "          Restaurant Name                          Cuisines  Aggregate rating\n",
              "0        Le Petit Souffle        French, Japanese, Desserts               4.8\n",
              "1        Izakaya Kikufuji                          Japanese               4.5\n",
              "2  Heat - Edsa Shangri-La  Seafood, Asian, Filipino, Indian               4.4\n",
              "3                    Ooma                   Japanese, Sushi               4.9\n",
              "4             Sambo Kojin                  Japanese, Korean               4.8"
            ]
          },
          "execution_count": 12,
          "metadata": {},
          "output_type": "execute_result"
        }
      ],
      "source": [
        "df = df[['Restaurant Name', 'Cuisines', 'Aggregate rating']]\n",
        "df.head()"
      ]
    },
    {
      "cell_type": "markdown",
      "metadata": {
        "id": "EFcOZaQ1SQ_E"
      },
      "source": [
        "**Computing the similarity matrix**"
      ]
    },
    {
      "cell_type": "code",
      "execution_count": 13,
      "metadata": {
        "colab": {
          "base_uri": "https://localhost:8080/"
        },
        "id": "OGMaO9_YNo4Q",
        "outputId": "1e1317aa-7056-45ac-e4cd-9b5f3a348e10"
      },
      "outputs": [
        {
          "data": {
            "text/plain": [
              "array([[1.        , 0.57735027, 0.        , 0.40824829, 0.40824829],\n",
              "       [0.57735027, 1.        , 0.        , 0.70710678, 0.70710678],\n",
              "       [0.        , 0.        , 1.        , 0.        , 0.        ],\n",
              "       [0.40824829, 0.70710678, 0.        , 1.        , 0.5       ],\n",
              "       [0.40824829, 0.70710678, 0.        , 0.5       , 1.        ]])"
            ]
          },
          "execution_count": 13,
          "metadata": {},
          "output_type": "execute_result"
        }
      ],
      "source": [
        "from sklearn.feature_extraction.text import CountVectorizer\n",
        "from sklearn.metrics.pairwise import cosine_similarity\n",
        "\n",
        "# Fill NaN values with empty string\n",
        "df['Cuisines'] = df['Cuisines'].fillna('')\n",
        "\n",
        "# Create a count matrix for the cuisines\n",
        "count_vectorizer = CountVectorizer()\n",
        "count_matrix = count_vectorizer.fit_transform(df['Cuisines'])\n",
        "\n",
        "# Compute the cosine similarity matrix\n",
        "cosine_sim = cosine_similarity(count_matrix, count_matrix)\n",
        "\n",
        "# Display the cosine similarity matrix\n",
        "cosine_sim[:5, :5]"
      ]
    },
    {
      "cell_type": "markdown",
      "metadata": {
        "id": "fcjW8--RSU2e"
      },
      "source": [
        "**Making recommendations**"
      ]
    },
    {
      "cell_type": "code",
      "execution_count": 14,
      "metadata": {
        "id": "TuJEqfMKNx1I"
      },
      "outputs": [],
      "source": [
        "# Function to get recommendations\n",
        "def get_recommendations(restaurant_name, cosine_sim=cosine_sim):\n",
        "    try:\n",
        "        # Get the index of the restaurant that matches the name\n",
        "        idx = df[df['Restaurant Name'] == restaurant_name].index[0]\n",
        "\n",
        "        # Get the pairwise similarity scores of all restaurants with that restaurant\n",
        "        sim_scores = list(enumerate(cosine_sim[idx]))\n",
        "\n",
        "        # Sort the restaurants based on the similarity scores\n",
        "        sim_scores = sorted(sim_scores, key=lambda x: x[1], reverse=True)\n",
        "\n",
        "        # Get the scores of the 10 most similar restaurants\n",
        "        sim_scores = sim_scores[1:11]\n",
        "\n",
        "        # Get the restaurant indices\n",
        "        restaurant_indices = [i[0] for i in sim_scores]\n",
        "\n",
        "        # Return the top 10 most similar restaurants\n",
        "        return df['Restaurant Name'].iloc[restaurant_indices]\n",
        "    except IndexError:\n",
        "        return \"Restaurant not found in the dataset.\""
      ]
    },
    {
      "cell_type": "code",
      "execution_count": 16,
      "metadata": {
        "colab": {
          "base_uri": "https://localhost:8080/"
        },
        "id": "-b97_yYMN17o",
        "outputId": "d3bf3de5-0987-4d07-dc3a-c00778c0dd06"
      },
      "outputs": [
        {
          "name": "stdout",
          "output_type": "stream",
          "text": [
            "Top recommendations for you:\n",
            "609            Derby\n",
            "671              KFC\n",
            "1316    Captain Grub\n",
            "1424      Tasty Fare\n",
            "1845       Eggjactly\n",
            "2161    Cafe Bonkerz\n",
            "2537             KFC\n",
            "3043             KFC\n",
            "3669    Captain Grub\n",
            "3911    Captain Grub\n",
            "Name: Restaurant Name, dtype: object\n"
          ]
        }
      ],
      "source": [
        "if __name__ == \"__main__\":\n",
        "    restaurant_name = input(\"Enter a restaurant name: \")\n",
        "    recommendations = get_recommendations(restaurant_name)\n",
        "    print(\"Top recommendations for you:\")\n",
        "    print(recommendations)"
      ]
    }
  ],
  "metadata": {
    "colab": {
      "provenance": []
    },
    "kernelspec": {
      "display_name": "Python 3",
      "name": "python3"
    },
    "language_info": {
      "codemirror_mode": {
        "name": "ipython",
        "version": 3
      },
      "file_extension": ".py",
      "mimetype": "text/x-python",
      "name": "python",
      "nbconvert_exporter": "python",
      "pygments_lexer": "ipython3",
      "version": "3.11.9"
    }
  },
  "nbformat": 4,
  "nbformat_minor": 0
}
